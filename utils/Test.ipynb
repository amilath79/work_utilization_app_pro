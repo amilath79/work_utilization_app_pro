{
 "cells": [
  {
   "cell_type": "code",
   "execution_count": 2,
   "id": "a8216570",
   "metadata": {},
   "outputs": [
    {
     "name": "stdout",
     "output_type": "stream",
     "text": [
      "📊 Punch Code 217 Analysis:\n",
      "Records: 1403\n",
      "Date range: 2019-07-04 00:00:00 to 2025-07-29 00:00:00\n",
      "Hours - Mean: 29.5, Std: 19.0\n",
      "Unique Hours values: 924\n",
      "Zero Hours count: 0\n",
      "Hours > 100: 5\n",
      "Hours distribution:\n",
      "count    1403.000000\n",
      "mean       29.549287\n",
      "std        19.014511\n",
      "min         0.170000\n",
      "25%        15.900000\n",
      "50%        25.090000\n",
      "75%        40.000000\n",
      "max       114.050000\n",
      "Name: Hours, dtype: float64\n"
     ]
    }
   ],
   "source": [
    "import pandas as pd\n",
    "\n",
    "import os\n",
    "MODELS_DIR = \"C:/forlogssystems/Models\"\n",
    "df = pd.read_pickle(os.path.join(MODELS_DIR, 'enhanced_training_data.pkl'))\n",
    "code_217_data = df[df['WorkType'] == '217']\n",
    "\n",
    "print(\"📊 Punch Code 217 Analysis:\")\n",
    "print(f\"Records: {len(code_217_data)}\")\n",
    "print(f\"Date range: {code_217_data['Date'].min()} to {code_217_data['Date'].max()}\")\n",
    "print(f\"Hours - Mean: {code_217_data['Hours'].mean():.1f}, Std: {code_217_data['Hours'].std():.1f}\")\n",
    "print(f\"Unique Hours values: {code_217_data['Hours'].nunique()}\")\n",
    "print(f\"Zero Hours count: {(code_217_data['Hours'] == 0).sum()}\")\n",
    "\n",
    "# Check for extreme outliers\n",
    "print(f\"Hours > 100: {(code_217_data['Hours'] > 100).sum()}\")\n",
    "print(f\"Hours distribution:\")\n",
    "print(code_217_data['Hours'].describe())"
   ]
  }
 ],
 "metadata": {
  "kernelspec": {
   "display_name": "Python 3",
   "language": "python",
   "name": "python3"
  },
  "language_info": {
   "codemirror_mode": {
    "name": "ipython",
    "version": 3
   },
   "file_extension": ".py",
   "mimetype": "text/x-python",
   "name": "python",
   "nbconvert_exporter": "python",
   "pygments_lexer": "ipython3",
   "version": "3.13.2"
  }
 },
 "nbformat": 4,
 "nbformat_minor": 5
}
