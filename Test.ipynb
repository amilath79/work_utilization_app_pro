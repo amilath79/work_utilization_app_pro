{
 "cells": [
  {
   "cell_type": "code",
   "execution_count": 2,
   "id": "71e391d0",
   "metadata": {},
   "outputs": [
    {
     "name": "stderr",
     "output_type": "stream",
     "text": [
      "2025-06-23 10:35:48.965 WARNING streamlit.runtime.scriptrunner_utils.script_run_context: Thread 'MainThread': missing ScriptRunContext! This warning can be ignored when running in bare mode.\n",
      "2025-06-23 10:35:48.966 WARNING streamlit.runtime.state.session_state_proxy: Session state does not function when running a script without `streamlit run`\n"
     ]
    },
    {
     "ename": "AttributeError",
     "evalue": "st.session_state has no attribute \"enhanced_models\". Did you forget to initialize it? More info: https://docs.streamlit.io/develop/concepts/architecture/session-state#initialization",
     "output_type": "error",
     "traceback": [
      "\u001b[31m---------------------------------------------------------------------------\u001b[39m",
      "\u001b[31mKeyError\u001b[39m                                  Traceback (most recent call last)",
      "\u001b[36mFile \u001b[39m\u001b[32mc:\\forlogssystems\\work_utilization_app\\venv\\Lib\\site-packages\\streamlit\\runtime\\state\\session_state.py:454\u001b[39m, in \u001b[36mSessionState.__getitem__\u001b[39m\u001b[34m(self, key)\u001b[39m\n\u001b[32m    453\u001b[39m \u001b[38;5;28;01mtry\u001b[39;00m:\n\u001b[32m--> \u001b[39m\u001b[32m454\u001b[39m     \u001b[38;5;28;01mreturn\u001b[39;00m \u001b[38;5;28;43mself\u001b[39;49m\u001b[43m.\u001b[49m\u001b[43m_getitem\u001b[49m\u001b[43m(\u001b[49m\u001b[43mwidget_id\u001b[49m\u001b[43m,\u001b[49m\u001b[43m \u001b[49m\u001b[43mkey\u001b[49m\u001b[43m)\u001b[49m\n\u001b[32m    455\u001b[39m \u001b[38;5;28;01mexcept\u001b[39;00m \u001b[38;5;167;01mKeyError\u001b[39;00m:\n",
      "\u001b[36mFile \u001b[39m\u001b[32mc:\\forlogssystems\\work_utilization_app\\venv\\Lib\\site-packages\\streamlit\\runtime\\state\\session_state.py:499\u001b[39m, in \u001b[36mSessionState._getitem\u001b[39m\u001b[34m(self, widget_id, user_key)\u001b[39m\n\u001b[32m    498\u001b[39m \u001b[38;5;66;03m# We'll never get here\u001b[39;00m\n\u001b[32m--> \u001b[39m\u001b[32m499\u001b[39m \u001b[38;5;28;01mraise\u001b[39;00m \u001b[38;5;167;01mKeyError\u001b[39;00m\n",
      "\u001b[31mKeyError\u001b[39m: ",
      "\nDuring handling of the above exception, another exception occurred:\n",
      "\u001b[31mKeyError\u001b[39m                                  Traceback (most recent call last)",
      "\u001b[36mFile \u001b[39m\u001b[32mc:\\forlogssystems\\work_utilization_app\\venv\\Lib\\site-packages\\streamlit\\runtime\\state\\session_state_proxy.py:130\u001b[39m, in \u001b[36mSessionStateProxy.__getattr__\u001b[39m\u001b[34m(self, key)\u001b[39m\n\u001b[32m    129\u001b[39m \u001b[38;5;28;01mtry\u001b[39;00m:\n\u001b[32m--> \u001b[39m\u001b[32m130\u001b[39m     \u001b[38;5;28;01mreturn\u001b[39;00m \u001b[38;5;28;43mself\u001b[39;49m\u001b[43m[\u001b[49m\u001b[43mkey\u001b[49m\u001b[43m]\u001b[49m\n\u001b[32m    131\u001b[39m \u001b[38;5;28;01mexcept\u001b[39;00m \u001b[38;5;167;01mKeyError\u001b[39;00m:\n",
      "\u001b[36mFile \u001b[39m\u001b[32mc:\\forlogssystems\\work_utilization_app\\venv\\Lib\\site-packages\\streamlit\\runtime\\state\\session_state_proxy.py:101\u001b[39m, in \u001b[36mSessionStateProxy.__getitem__\u001b[39m\u001b[34m(self, key)\u001b[39m\n\u001b[32m    100\u001b[39m require_valid_user_key(key)\n\u001b[32m--> \u001b[39m\u001b[32m101\u001b[39m \u001b[38;5;28;01mreturn\u001b[39;00m \u001b[43mget_session_state\u001b[49m\u001b[43m(\u001b[49m\u001b[43m)\u001b[49m\u001b[43m[\u001b[49m\u001b[43mkey\u001b[49m\u001b[43m]\u001b[49m\n",
      "\u001b[36mFile \u001b[39m\u001b[32mc:\\forlogssystems\\work_utilization_app\\venv\\Lib\\site-packages\\streamlit\\runtime\\state\\safe_session_state.py:96\u001b[39m, in \u001b[36mSafeSessionState.__getitem__\u001b[39m\u001b[34m(self, key)\u001b[39m\n\u001b[32m     95\u001b[39m \u001b[38;5;28;01mwith\u001b[39;00m \u001b[38;5;28mself\u001b[39m._lock:\n\u001b[32m---> \u001b[39m\u001b[32m96\u001b[39m     \u001b[38;5;28;01mreturn\u001b[39;00m \u001b[38;5;28;43mself\u001b[39;49m\u001b[43m.\u001b[49m\u001b[43m_state\u001b[49m\u001b[43m[\u001b[49m\u001b[43mkey\u001b[49m\u001b[43m]\u001b[49m\n",
      "\u001b[36mFile \u001b[39m\u001b[32mc:\\forlogssystems\\work_utilization_app\\venv\\Lib\\site-packages\\streamlit\\runtime\\state\\session_state.py:456\u001b[39m, in \u001b[36mSessionState.__getitem__\u001b[39m\u001b[34m(self, key)\u001b[39m\n\u001b[32m    455\u001b[39m \u001b[38;5;28;01mexcept\u001b[39;00m \u001b[38;5;167;01mKeyError\u001b[39;00m:\n\u001b[32m--> \u001b[39m\u001b[32m456\u001b[39m     \u001b[38;5;28;01mraise\u001b[39;00m \u001b[38;5;167;01mKeyError\u001b[39;00m(_missing_key_error_message(key))\n",
      "\u001b[31mKeyError\u001b[39m: 'st.session_state has no key \"enhanced_models\". Did you forget to initialize it? More info: https://docs.streamlit.io/develop/concepts/architecture/session-state#initialization'",
      "\nDuring handling of the above exception, another exception occurred:\n",
      "\u001b[31mAttributeError\u001b[39m                            Traceback (most recent call last)",
      "\u001b[36mCell\u001b[39m\u001b[36m \u001b[39m\u001b[32mIn[2]\u001b[39m\u001b[32m, line 3\u001b[39m\n\u001b[32m      1\u001b[39m \u001b[38;5;28;01mimport\u001b[39;00m\u001b[38;5;250m \u001b[39m\u001b[34;01mstreamlit\u001b[39;00m\u001b[38;5;250m \u001b[39m\u001b[38;5;28;01mas\u001b[39;00m\u001b[38;5;250m \u001b[39m\u001b[34;01mst\u001b[39;00m\n\u001b[32m      2\u001b[39m work_type = \u001b[33m'\u001b[39m\u001b[33m206\u001b[39m\u001b[33m'\u001b[39m  \u001b[38;5;66;03m# or any punch code\u001b[39;00m\n\u001b[32m----> \u001b[39m\u001b[32m3\u001b[39m pipeline = \u001b[43mst\u001b[49m\u001b[43m.\u001b[49m\u001b[43msession_state\u001b[49m\u001b[43m.\u001b[49m\u001b[43menhanced_models\u001b[49m[work_type]\n\u001b[32m      4\u001b[39m model = pipeline.named_steps[\u001b[33m'\u001b[39m\u001b[33mmodel\u001b[39m\u001b[33m'\u001b[39m]\n\u001b[32m      5\u001b[39m st.write(\u001b[33mf\u001b[39m\u001b[33m\"\u001b[39m\u001b[33mModel type: \u001b[39m\u001b[38;5;132;01m{\u001b[39;00m\u001b[38;5;28mtype\u001b[39m(model).\u001b[34m__name__\u001b[39m\u001b[38;5;132;01m}\u001b[39;00m\u001b[33m\"\u001b[39m)  \n",
      "\u001b[36mFile \u001b[39m\u001b[32mc:\\forlogssystems\\work_utilization_app\\venv\\Lib\\site-packages\\streamlit\\runtime\\state\\session_state_proxy.py:132\u001b[39m, in \u001b[36mSessionStateProxy.__getattr__\u001b[39m\u001b[34m(self, key)\u001b[39m\n\u001b[32m    130\u001b[39m     \u001b[38;5;28;01mreturn\u001b[39;00m \u001b[38;5;28mself\u001b[39m[key]\n\u001b[32m    131\u001b[39m \u001b[38;5;28;01mexcept\u001b[39;00m \u001b[38;5;167;01mKeyError\u001b[39;00m:\n\u001b[32m--> \u001b[39m\u001b[32m132\u001b[39m     \u001b[38;5;28;01mraise\u001b[39;00m \u001b[38;5;167;01mAttributeError\u001b[39;00m(_missing_attr_error_message(key))\n",
      "\u001b[31mAttributeError\u001b[39m: st.session_state has no attribute \"enhanced_models\". Did you forget to initialize it? More info: https://docs.streamlit.io/develop/concepts/architecture/session-state#initialization"
     ]
    }
   ],
   "source": [
    "import streamlit as st\n",
    "work_type = '206'  # or any punch code\n",
    "pipeline = st.session_state.enhanced_models[work_type]\n",
    "model = pipeline.named_steps['model']\n",
    "st.write(f\"Model type: {type(model).__name__}\")  "
   ]
  }
 ],
 "metadata": {
  "kernelspec": {
   "display_name": "venv",
   "language": "python",
   "name": "python3"
  },
  "language_info": {
   "codemirror_mode": {
    "name": "ipython",
    "version": 3
   },
   "file_extension": ".py",
   "mimetype": "text/x-python",
   "name": "python",
   "nbconvert_exporter": "python",
   "pygments_lexer": "ipython3",
   "version": "3.13.2"
  }
 },
 "nbformat": 4,
 "nbformat_minor": 5
}
